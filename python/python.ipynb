{
 "cells": [
  {
   "cell_type": "markdown",
   "id": "db1cdfb3",
   "metadata": {},
   "source": [
    "# BDAT1004 Problem Set 1\n",
    "## continued"
   ]
  },
  {
   "cell_type": "markdown",
   "id": "d8fe4b36",
   "metadata": {},
   "source": [
    "### Question 6\n",
    "Write a function pig() that takes a word (i.e., a string) as input and returns its pig-Latin form. Your function should still work if the input word contains upper case characters. Your output should always be lower case however."
   ]
  },
  {
   "cell_type": "code",
   "execution_count": 15,
   "id": "6fb9e674",
   "metadata": {},
   "outputs": [
    {
     "data": {
      "text/plain": [
       "'happyway'"
      ]
     },
     "execution_count": 15,
     "metadata": {},
     "output_type": "execute_result"
    }
   ],
   "source": [
    "def pig(word):\n",
    "    if word[0] == \"a\" or \"e\" or \"i\" or \"u\":\n",
    "        res = word[0:] + \"way\" # Appending \"way\" to the end of the string if the string starts with a vowel\n",
    "    else:\n",
    "        res = word[1:] + word[0] + \"ay\" # Moving the first letter to the last of the string and appending \"ay\" to the end if the string starts with a vowel\n",
    "    return res.lower() # Returns lowercase copy of 'res' whatever case the input is in\n",
    "\n",
    "pig(\"happy\")"
   ]
  },
  {
   "cell_type": "code",
   "execution_count": 16,
   "id": "549be642",
   "metadata": {},
   "outputs": [
    {
     "data": {
      "text/plain": [
       "'enterway'"
      ]
     },
     "execution_count": 16,
     "metadata": {},
     "output_type": "execute_result"
    }
   ],
   "source": [
    "pig('Enter')"
   ]
  },
  {
   "cell_type": "markdown",
   "id": "e39cb730",
   "metadata": {},
   "source": [
    "### Question 7\n",
    "#### File bloodtype1.txt records blood-types of patients (A, B, AB, O or OO) at a clinic. Write a function bldcount() that reads the file with name name and reports (i.e., prints) how many patients there are in each bloodtype."
   ]
  },
  {
   "cell_type": "code",
   "execution_count": 32,
   "id": "0f16cec6",
   "metadata": {},
   "outputs": [
    {
     "name": "stdout",
     "output_type": "stream",
     "text": [
      "There are 15 patients of bloodtype A \n",
      "There are 1 patients of bloodtype B \n",
      "There are 13 patients of bloodtype AB\n",
      "There are 15 patients of bloodtype O \n",
      "There are 0 patients of bloodtype OO\n"
     ]
    }
   ],
   "source": [
    "def  bldcount(name):\n",
    "    \n",
    "    infile = open(name, 'r')\n",
    "    content = infile.read() # Read starting from cursor (here from the start of the file) up to the end of the file\n",
    "    infile.close()\n",
    "    bloodType = content.split() # Splits the string in the file to a list of words i.e., bloodtypes\n",
    "    A = bloodType.count('A')\n",
    "    B = bloodType.count('B')\n",
    "    AB = bloodType.count('AB')\n",
    "    O = bloodType.count('O')\n",
    "    OO = bloodType.count('OO')\n",
    "    \n",
    "    # Returns the number of bloodtypes\n",
    "    return ('There are {} patients of bloodtype A \\nThere are {} patients of bloodtype B \\nThere are {} patients of bloodtype AB\\nThere are {} patients of bloodtype O \\nThere are {} patients of bloodtype OO'.format(A,B,AB,O,OO))\n",
    "\n",
    "print (bldcount('bloodtype1.txt'))"
   ]
  },
  {
   "cell_type": "markdown",
   "id": "81e12543",
   "metadata": {},
   "source": [
    "### Question 8\n",
    "#### Write a function curconv() that takes as input: <br> 1. a currency represented using a string (e.g., 'JPY' for the Japanese Yen or 'EUR' for the Euro) <br> 2. an amount <br> and then converts and returns the amount in US dollars.\n"
   ]
  },
  {
   "cell_type": "code",
   "execution_count": 188,
   "id": "2a592a37",
   "metadata": {},
   "outputs": [
    {
     "data": {
      "text/plain": [
       "122.96544"
      ]
     },
     "execution_count": 188,
     "metadata": {},
     "output_type": "execute_result"
    }
   ],
   "source": [
    "def curconv(currency,value):\n",
    "    infile = open('currencies.txt', 'r')\n",
    "    content = infile.readlines()\n",
    "    for line in content:\n",
    "        if currency in line:\n",
    "            currInfo = line.split() \n",
    "            finalValue = (float(currInfo[1]) * value)\n",
    "            return finalValue\n",
    "            \n",
    "curconv('EUR', 100)"
   ]
  },
  {
   "cell_type": "markdown",
   "id": "db9b7b1f",
   "metadata": {},
   "source": [
    "### Question 9\n",
    "#### Each of the following will cause an exception (an error). Identify what type of exception each will cause."
   ]
  },
  {
   "cell_type": "markdown",
   "id": "5979f579",
   "metadata": {},
   "source": [
    "##### a. Trying to add incompatible variables, as in adding 6 + ‘a’\n",
    "\n",
    "Ans) TypeError"
   ]
  },
  {
   "cell_type": "code",
   "execution_count": 36,
   "id": "76d76e1e",
   "metadata": {},
   "outputs": [
    {
     "ename": "TypeError",
     "evalue": "unsupported operand type(s) for +: 'int' and 'str'",
     "output_type": "error",
     "traceback": [
      "\u001b[1;31m---------------------------------------------------------------------------\u001b[0m",
      "\u001b[1;31mTypeError\u001b[0m                                 Traceback (most recent call last)",
      "\u001b[1;32m~\\AppData\\Local\\Temp/ipykernel_20092/236537636.py\u001b[0m in \u001b[0;36m<module>\u001b[1;34m\u001b[0m\n\u001b[1;32m----> 1\u001b[1;33m \u001b[0mp\u001b[0m \u001b[1;33m=\u001b[0m \u001b[1;36m6\u001b[0m \u001b[1;33m+\u001b[0m \u001b[1;34m'a'\u001b[0m\u001b[1;33m\u001b[0m\u001b[1;33m\u001b[0m\u001b[0m\n\u001b[0m\u001b[0;32m      2\u001b[0m \u001b[0mprint\u001b[0m \u001b[1;33m(\u001b[0m\u001b[0mp\u001b[0m\u001b[1;33m)\u001b[0m\u001b[1;33m\u001b[0m\u001b[1;33m\u001b[0m\u001b[0m\n",
      "\u001b[1;31mTypeError\u001b[0m: unsupported operand type(s) for +: 'int' and 'str'"
     ]
    }
   ],
   "source": [
    "# Example\n",
    "\n",
    "p = 6 + 'a'\n",
    "print (p)"
   ]
  },
  {
   "cell_type": "markdown",
   "id": "67ffc1b3",
   "metadata": {},
   "source": [
    "##### b. Referring to the 12th item of a list that has only 10 items\n",
    "Ans) IndexError"
   ]
  },
  {
   "cell_type": "code",
   "execution_count": 39,
   "id": "dd60cc9d",
   "metadata": {},
   "outputs": [
    {
     "ename": "IndexError",
     "evalue": "list index out of range",
     "output_type": "error",
     "traceback": [
      "\u001b[1;31m---------------------------------------------------------------------------\u001b[0m",
      "\u001b[1;31mIndexError\u001b[0m                                Traceback (most recent call last)",
      "\u001b[1;32m~\\AppData\\Local\\Temp/ipykernel_20092/3274765955.py\u001b[0m in \u001b[0;36m<module>\u001b[1;34m\u001b[0m\n\u001b[0;32m      1\u001b[0m \u001b[0mlst\u001b[0m \u001b[1;33m=\u001b[0m \u001b[1;33m[\u001b[0m\u001b[1;36m1\u001b[0m\u001b[1;33m,\u001b[0m \u001b[1;36m2\u001b[0m\u001b[1;33m,\u001b[0m \u001b[1;36m3\u001b[0m\u001b[1;33m,\u001b[0m \u001b[1;36m4\u001b[0m\u001b[1;33m,\u001b[0m \u001b[1;36m5\u001b[0m\u001b[1;33m,\u001b[0m \u001b[1;36m6\u001b[0m\u001b[1;33m,\u001b[0m \u001b[1;36m7\u001b[0m\u001b[1;33m,\u001b[0m \u001b[1;36m8\u001b[0m\u001b[1;33m,\u001b[0m \u001b[1;36m9\u001b[0m\u001b[1;33m,\u001b[0m \u001b[1;36m10\u001b[0m\u001b[1;33m]\u001b[0m \u001b[1;31m# A list with 10 items\u001b[0m\u001b[1;33m\u001b[0m\u001b[1;33m\u001b[0m\u001b[0m\n\u001b[1;32m----> 2\u001b[1;33m \u001b[0mprint\u001b[0m\u001b[1;33m(\u001b[0m\u001b[0mlst\u001b[0m\u001b[1;33m[\u001b[0m\u001b[1;36m12\u001b[0m\u001b[1;33m]\u001b[0m\u001b[1;33m)\u001b[0m \u001b[1;31m# Calling 12th item in the list\u001b[0m\u001b[1;33m\u001b[0m\u001b[1;33m\u001b[0m\u001b[0m\n\u001b[0m",
      "\u001b[1;31mIndexError\u001b[0m: list index out of range"
     ]
    }
   ],
   "source": [
    "# Example\n",
    "\n",
    "lst = [1, 2, 3, 4, 5, 6, 7, 8, 9, 10] # A list with 10 items\n",
    "print(lst[12]) # Calling 12th item in the list"
   ]
  },
  {
   "cell_type": "markdown",
   "id": "11ed147d",
   "metadata": {},
   "source": [
    "##### c. Using a value that is out of range for a function’s input, such as calling math.sqrt(-1.0)\n",
    "Ans) ValueError"
   ]
  },
  {
   "cell_type": "code",
   "execution_count": 40,
   "id": "d8d9c95a",
   "metadata": {},
   "outputs": [
    {
     "ename": "ValueError",
     "evalue": "math domain error",
     "output_type": "error",
     "traceback": [
      "\u001b[1;31m---------------------------------------------------------------------------\u001b[0m",
      "\u001b[1;31mValueError\u001b[0m                                Traceback (most recent call last)",
      "\u001b[1;32m~\\AppData\\Local\\Temp/ipykernel_20092/4169122158.py\u001b[0m in \u001b[0;36m<module>\u001b[1;34m\u001b[0m\n\u001b[0;32m      1\u001b[0m \u001b[1;32mimport\u001b[0m \u001b[0mmath\u001b[0m\u001b[1;33m\u001b[0m\u001b[1;33m\u001b[0m\u001b[0m\n\u001b[1;32m----> 2\u001b[1;33m \u001b[0mprint\u001b[0m \u001b[1;33m(\u001b[0m\u001b[0mmath\u001b[0m\u001b[1;33m.\u001b[0m\u001b[0msqrt\u001b[0m\u001b[1;33m(\u001b[0m\u001b[1;33m-\u001b[0m\u001b[1;36m1.0\u001b[0m\u001b[1;33m)\u001b[0m\u001b[1;33m)\u001b[0m\u001b[1;33m\u001b[0m\u001b[1;33m\u001b[0m\u001b[0m\n\u001b[0m",
      "\u001b[1;31mValueError\u001b[0m: math domain error"
     ]
    }
   ],
   "source": [
    "# Example\n",
    "\n",
    "import math\n",
    "print (math.sqrt(-1.0))"
   ]
  },
  {
   "cell_type": "markdown",
   "id": "97580984",
   "metadata": {},
   "source": [
    "##### d. Using an undeclared variable, such as print(x) when x has not been defined\n",
    "Ans) NameError"
   ]
  },
  {
   "cell_type": "code",
   "execution_count": 42,
   "id": "2bdafa42",
   "metadata": {},
   "outputs": [
    {
     "ename": "NameError",
     "evalue": "name 'p' is not defined",
     "output_type": "error",
     "traceback": [
      "\u001b[1;31m---------------------------------------------------------------------------\u001b[0m",
      "\u001b[1;31mNameError\u001b[0m                                 Traceback (most recent call last)",
      "\u001b[1;32m~\\AppData\\Local\\Temp/ipykernel_20092/3352238488.py\u001b[0m in \u001b[0;36m<module>\u001b[1;34m\u001b[0m\n\u001b[0;32m      1\u001b[0m \u001b[1;31m# Example\u001b[0m\u001b[1;33m\u001b[0m\u001b[1;33m\u001b[0m\u001b[0m\n\u001b[0;32m      2\u001b[0m \u001b[1;33m\u001b[0m\u001b[0m\n\u001b[1;32m----> 3\u001b[1;33m \u001b[0mprint\u001b[0m\u001b[1;33m(\u001b[0m\u001b[0mp\u001b[0m\u001b[1;33m)\u001b[0m\u001b[1;33m\u001b[0m\u001b[1;33m\u001b[0m\u001b[0m\n\u001b[0m",
      "\u001b[1;31mNameError\u001b[0m: name 'p' is not defined"
     ]
    }
   ],
   "source": [
    "# Example\n",
    "\n",
    "print(p)"
   ]
  },
  {
   "cell_type": "markdown",
   "id": "dbc78501",
   "metadata": {},
   "source": [
    "##### e. Trying to open a file that does not exist, such as mistyping the file name or looking in the wrong directory. \n",
    "Ans) FileNotFoundError"
   ]
  },
  {
   "cell_type": "code",
   "execution_count": 44,
   "id": "01211fde",
   "metadata": {},
   "outputs": [
    {
     "ename": "FileNotFoundError",
     "evalue": "[Errno 2] No such file or directory: 'test.txt'",
     "output_type": "error",
     "traceback": [
      "\u001b[1;31m---------------------------------------------------------------------------\u001b[0m",
      "\u001b[1;31mFileNotFoundError\u001b[0m                         Traceback (most recent call last)",
      "\u001b[1;32m~\\AppData\\Local\\Temp/ipykernel_20092/3131606717.py\u001b[0m in \u001b[0;36m<module>\u001b[1;34m\u001b[0m\n\u001b[1;32m----> 1\u001b[1;33m \u001b[0minfile\u001b[0m \u001b[1;33m=\u001b[0m \u001b[0mopen\u001b[0m\u001b[1;33m(\u001b[0m\u001b[1;34m'test.txt'\u001b[0m\u001b[1;33m)\u001b[0m\u001b[1;33m\u001b[0m\u001b[1;33m\u001b[0m\u001b[0m\n\u001b[0m",
      "\u001b[1;31mFileNotFoundError\u001b[0m: [Errno 2] No such file or directory: 'test.txt'"
     ]
    }
   ],
   "source": [
    "# Example\n",
    "\n",
    "infile = open('test.txt')"
   ]
  },
  {
   "cell_type": "markdown",
   "id": "dfdcd691",
   "metadata": {},
   "source": [
    "### Question 10\n",
    "#### Assume that the string letters is already defined as 'abcdefghijklmnopqrstuvwxyz'. Write a function called frequencies() that takes a string as its only parameter, and returns a list of integers, showing the number of times each character appears in the text. Your function may ignore any characters that are not in letters."
   ]
  },
  {
   "cell_type": "code",
   "execution_count": 156,
   "id": "7e822074",
   "metadata": {},
   "outputs": [
    {
     "name": "stdout",
     "output_type": "stream",
     "text": [
      "[1, 1, 1, 3, 5, 1, 1, 2, 1, 0, 1, 0, 1, 2, 4, 0, 1, 2, 0, 2, 1, 0, 1, 1, 0, 0]\n"
     ]
    }
   ],
   "source": [
    "def frequencies(string):\n",
    "    letters = 'abcdefghijklmnopqrstuvwxyz'\n",
    "    l = []\n",
    "    for i in letters:\n",
    "        res = string.count(i)\n",
    "        l.append(res)\n",
    "        #return res\n",
    "        #print(res)\n",
    "    return (l)\n",
    "print (frequencies('The quick red fox got bored and went home'))"
   ]
  }
 ],
 "metadata": {
  "kernelspec": {
   "display_name": "Python 3 (ipykernel)",
   "language": "python",
   "name": "python3"
  },
  "language_info": {
   "codemirror_mode": {
    "name": "ipython",
    "version": 3
   },
   "file_extension": ".py",
   "mimetype": "text/x-python",
   "name": "python",
   "nbconvert_exporter": "python",
   "pygments_lexer": "ipython3",
   "version": "3.9.7"
  }
 },
 "nbformat": 4,
 "nbformat_minor": 5
}
